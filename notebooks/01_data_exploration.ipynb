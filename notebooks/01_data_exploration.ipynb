{
 "cells": [
  {
   "cell_type": "markdown",
   "id": "ce2920ec",
   "metadata": {},
   "source": [
    "#### Load user reviews"
   ]
  },
  {
   "cell_type": "markdown",
   "id": "29d5140e",
   "metadata": {},
   "source": [
    "Importing necessary libraries"
   ]
  },
  {
   "cell_type": "code",
   "execution_count": 4,
   "id": "7847a398",
   "metadata": {},
   "outputs": [],
   "source": [
    "import pandas as pd\n",
    "import numpy as np\n",
    "import datasets\n",
    "datasets.logging.set_verbosity_error()\n",
    "from datasets import load_dataset"
   ]
  },
  {
   "cell_type": "code",
   "execution_count": 12,
   "id": "114af751",
   "metadata": {},
   "outputs": [
    {
     "name": "stderr",
     "output_type": "stream",
     "text": [
      "Generating train split: 2500939 examples [00:02, 1052914.59 examples/s]\n"
     ]
    }
   ],
   "source": [
    "from datasets import load_dataset\n",
    "\n",
    "dataset = load_dataset(\n",
    "    \"json\",\n",
    "    data_files=\"../data/raw/Amazon_Fashion.jsonl\",\n",
    "    split=\"train\"  # or omit to keep as DatasetDict\n",
    ")\n"
   ]
  },
  {
   "cell_type": "code",
   "execution_count": 20,
   "id": "d5931da9",
   "metadata": {},
   "outputs": [
    {
     "name": "stdout",
     "output_type": "stream",
     "text": [
      "Dataset({\n",
      "    features: ['rating', 'title', 'text', 'images', 'asin', 'parent_asin', 'user_id', 'timestamp', 'helpful_vote', 'verified_purchase'],\n",
      "    num_rows: 2500939\n",
      "})\n"
     ]
    }
   ],
   "source": [
    "print(dataset)"
   ]
  },
  {
   "cell_type": "code",
   "execution_count": 21,
   "id": "aac22971",
   "metadata": {},
   "outputs": [
    {
     "name": "stdout",
     "output_type": "stream",
     "text": [
      "{'rating': Value('float64'), 'title': Value('string'), 'text': Value('string'), 'images': List({'small_image_url': Value('string'), 'medium_image_url': Value('string'), 'large_image_url': Value('string'), 'attachment_type': Value('string')}), 'asin': Value('string'), 'parent_asin': Value('string'), 'user_id': Value('string'), 'timestamp': Value('int64'), 'helpful_vote': Value('int64'), 'verified_purchase': Value('bool')}\n"
     ]
    }
   ],
   "source": [
    "print(dataset.features)"
   ]
  },
  {
   "cell_type": "code",
   "execution_count": 22,
   "id": "b696975d",
   "metadata": {},
   "outputs": [
    {
     "name": "stdout",
     "output_type": "stream",
     "text": [
      "   rating                 title  \\\n",
      "0     5.0         Pretty locket   \n",
      "1     5.0                     A   \n",
      "2     2.0             Two Stars   \n",
      "3     1.0       Won’t buy again   \n",
      "4     5.0  I LOVE these glasses   \n",
      "\n",
      "                                                text images        asin  \\\n",
      "0  I think this locket is really pretty. The insi...     []  B00LOPVX74   \n",
      "1                                              Great     []  B07B4JXK8D   \n",
      "2  One of the stones fell out within the first 2 ...     []  B007ZSEQ4Q   \n",
      "3  Crappy socks. Money wasted. Bought to wear wit...     []  B07F2BTFS9   \n",
      "4  I LOVE these glasses!  They fit perfectly over...     []  B00PKRFU4O   \n",
      "\n",
      "  parent_asin                       user_id      timestamp  helpful_vote  \\\n",
      "0  B00LOPVX74  AGBFYI2DDIKXC5Y4FARTYDTQBMFQ  1578528394489             3   \n",
      "1  B07B4JXK8D  AFQLNQNQYFWQZPJQZS6V3NZU4QBQ  1608426246701             0   \n",
      "2  B007ZSEQ4Q  AHITBJSS7KYUBVZPX7M2WJCOIVKQ  1432344828000             3   \n",
      "3  B07F2BTFS9  AFVNEEPDEIH5SPUN5BWC6NKL3WNQ  1546289847095             2   \n",
      "4  B00XESJTDE  AHSPLDNW5OOUK2PLH7GXLACFBZNQ  1439476166000             0   \n",
      "\n",
      "   verified_purchase  \n",
      "0               True  \n",
      "1               True  \n",
      "2               True  \n",
      "3               True  \n",
      "4               True  \n"
     ]
    }
   ],
   "source": [
    "df = dataset.to_pandas()\n",
    "df = pd.json_normalize(df.to_dict(orient='records'))\n",
    "print(df.head())"
   ]
  },
  {
   "cell_type": "code",
   "execution_count": null,
   "id": "c2c3adb0",
   "metadata": {},
   "outputs": [],
   "source": []
  }
 ],
 "metadata": {
  "kernelspec": {
   "display_name": ".venv (3.12.4)",
   "language": "python",
   "name": "python3"
  },
  "language_info": {
   "codemirror_mode": {
    "name": "ipython",
    "version": 3
   },
   "file_extension": ".py",
   "mimetype": "text/x-python",
   "name": "python",
   "nbconvert_exporter": "python",
   "pygments_lexer": "ipython3",
   "version": "3.12.4"
  }
 },
 "nbformat": 4,
 "nbformat_minor": 5
}
